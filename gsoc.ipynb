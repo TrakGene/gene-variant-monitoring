{
 "cells": [
  {
   "cell_type": "code",
   "execution_count": 143,
   "id": "91c1155e-fce8-4142-8119-ab0ef6953288",
   "metadata": {},
   "outputs": [],
   "source": [
    "#importing necessary libraries/ packages\n",
    "import numpy as np\n",
    "import pandas as pd\n",
    "import sklearn\n",
    "import os\n",
    "from sklearn import preprocessing\n",
    "from sklearn.tree import DecisionTreeClassifier\n",
    "le = preprocessing.LabelEncoder()"
   ]
  },
  {
   "cell_type": "code",
   "execution_count": 144,
   "id": "b5aefc1a-2acf-4b98-8500-90f963fca390",
   "metadata": {},
   "outputs": [
    {
     "data": {
      "text/html": [
       "<div>\n",
       "<style scoped>\n",
       "    .dataframe tbody tr th:only-of-type {\n",
       "        vertical-align: middle;\n",
       "    }\n",
       "\n",
       "    .dataframe tbody tr th {\n",
       "        vertical-align: top;\n",
       "    }\n",
       "\n",
       "    .dataframe thead th {\n",
       "        text-align: right;\n",
       "    }\n",
       "</style>\n",
       "<table border=\"1\" class=\"dataframe\">\n",
       "  <thead>\n",
       "    <tr style=\"text-align: right;\">\n",
       "      <th></th>\n",
       "      <th>gene_name</th>\n",
       "      <th>identifier</th>\n",
       "      <th>variant_category</th>\n",
       "    </tr>\n",
       "  </thead>\n",
       "  <tbody>\n",
       "    <tr>\n",
       "      <th>0</th>\n",
       "      <td>A1BG</td>\n",
       "      <td>P04217</td>\n",
       "      <td>0</td>\n",
       "    </tr>\n",
       "    <tr>\n",
       "      <th>1</th>\n",
       "      <td>A1BG</td>\n",
       "      <td>P04217</td>\n",
       "      <td>0</td>\n",
       "    </tr>\n",
       "    <tr>\n",
       "      <th>2</th>\n",
       "      <td>A1CF</td>\n",
       "      <td>Q9NQ94</td>\n",
       "      <td>0</td>\n",
       "    </tr>\n",
       "    <tr>\n",
       "      <th>3</th>\n",
       "      <td>A1CF</td>\n",
       "      <td>Q9NQ94</td>\n",
       "      <td>0</td>\n",
       "    </tr>\n",
       "    <tr>\n",
       "      <th>4</th>\n",
       "      <td>A2M</td>\n",
       "      <td>P01023</td>\n",
       "      <td>0</td>\n",
       "    </tr>\n",
       "  </tbody>\n",
       "</table>\n",
       "</div>"
      ],
      "text/plain": [
       "  gene_name identifier  variant_category\n",
       "0      A1BG     P04217                 0\n",
       "1      A1BG     P04217                 0\n",
       "2      A1CF     Q9NQ94                 0\n",
       "3      A1CF     Q9NQ94                 0\n",
       "4       A2M     P01023                 0"
      ]
     },
     "execution_count": 144,
     "metadata": {},
     "output_type": "execute_result"
    }
   ],
   "source": [
    "#Importing the csv file wrt columns, comments and blank spaces\n",
    "filename = 'gsoc_data.csv'\n",
    "data = pd.read_csv(filename, na_values = '-')\n",
    "data.head(5)\n",
    "\n",
    "# variant_category: 0 --> Benign, 1 --> Pathogenic, 2 --> Uncertain"
   ]
  },
  {
   "cell_type": "code",
   "execution_count": null,
   "id": "c7317bcb-8d0e-42c0-b7f5-b7a2e349b6f8",
   "metadata": {},
   "outputs": [],
   "source": [
    "#Encoding the categorical variables \n",
    "from sklearn import preprocessing\n",
    "le = preprocessing.LabelEncoder()\n",
    "data['gene_name']=le.fit_transform(data['gene_name']).astype('str')\n",
    "data['identifier']=le.fit_transform(data['identifier']).astype('str')"
   ]
  },
  {
   "cell_type": "code",
   "execution_count": 17,
   "id": "f3a625f4-dc9f-4e48-8a9f-05cf85f87e11",
   "metadata": {},
   "outputs": [
    {
     "data": {
      "text/html": [
       "<div>\n",
       "<style scoped>\n",
       "    .dataframe tbody tr th:only-of-type {\n",
       "        vertical-align: middle;\n",
       "    }\n",
       "\n",
       "    .dataframe tbody tr th {\n",
       "        vertical-align: top;\n",
       "    }\n",
       "\n",
       "    .dataframe thead th {\n",
       "        text-align: right;\n",
       "    }\n",
       "</style>\n",
       "<table border=\"1\" class=\"dataframe\">\n",
       "  <thead>\n",
       "    <tr style=\"text-align: right;\">\n",
       "      <th></th>\n",
       "      <th>gene_name</th>\n",
       "      <th>identifier</th>\n",
       "      <th>variant_category</th>\n",
       "    </tr>\n",
       "  </thead>\n",
       "  <tbody>\n",
       "    <tr>\n",
       "      <th>0</th>\n",
       "      <td>0</td>\n",
       "      <td>1765</td>\n",
       "      <td>0</td>\n",
       "    </tr>\n",
       "    <tr>\n",
       "      <th>1</th>\n",
       "      <td>0</td>\n",
       "      <td>1765</td>\n",
       "      <td>0</td>\n",
       "    </tr>\n",
       "    <tr>\n",
       "      <th>2</th>\n",
       "      <td>1</td>\n",
       "      <td>11369</td>\n",
       "      <td>0</td>\n",
       "    </tr>\n",
       "    <tr>\n",
       "      <th>3</th>\n",
       "      <td>1</td>\n",
       "      <td>11369</td>\n",
       "      <td>0</td>\n",
       "    </tr>\n",
       "    <tr>\n",
       "      <th>4</th>\n",
       "      <td>2</td>\n",
       "      <td>1604</td>\n",
       "      <td>0</td>\n",
       "    </tr>\n",
       "    <tr>\n",
       "      <th>...</th>\n",
       "      <td>...</td>\n",
       "      <td>...</td>\n",
       "      <td>...</td>\n",
       "    </tr>\n",
       "    <tr>\n",
       "      <th>81087</th>\n",
       "      <td>12950</td>\n",
       "      <td>682</td>\n",
       "      <td>0</td>\n",
       "    </tr>\n",
       "    <tr>\n",
       "      <th>81088</th>\n",
       "      <td>12950</td>\n",
       "      <td>682</td>\n",
       "      <td>0</td>\n",
       "    </tr>\n",
       "    <tr>\n",
       "      <th>81089</th>\n",
       "      <td>12950</td>\n",
       "      <td>682</td>\n",
       "      <td>0</td>\n",
       "    </tr>\n",
       "    <tr>\n",
       "      <th>81090</th>\n",
       "      <td>12950</td>\n",
       "      <td>682</td>\n",
       "      <td>0</td>\n",
       "    </tr>\n",
       "    <tr>\n",
       "      <th>81091</th>\n",
       "      <td>12951</td>\n",
       "      <td>7679</td>\n",
       "      <td>2</td>\n",
       "    </tr>\n",
       "  </tbody>\n",
       "</table>\n",
       "<p>81092 rows × 3 columns</p>\n",
       "</div>"
      ],
      "text/plain": [
       "      gene_name identifier  variant_category\n",
       "0             0       1765                 0\n",
       "1             0       1765                 0\n",
       "2             1      11369                 0\n",
       "3             1      11369                 0\n",
       "4             2       1604                 0\n",
       "...         ...        ...               ...\n",
       "81087     12950        682                 0\n",
       "81088     12950        682                 0\n",
       "81089     12950        682                 0\n",
       "81090     12950        682                 0\n",
       "81091     12951       7679                 2\n",
       "\n",
       "[81092 rows x 3 columns]"
      ]
     },
     "execution_count": 17,
     "metadata": {},
     "output_type": "execute_result"
    }
   ],
   "source": [
    "data"
   ]
  },
  {
   "cell_type": "code",
   "execution_count": 59,
   "id": "57dfef05-a3d5-47c1-bf4b-a65158031bbf",
   "metadata": {},
   "outputs": [],
   "source": [
    "#Extracting Independent and dependent Variable  \n",
    "\n",
    "x= data.iloc[:, [0,1]].values  #Feature variables\n",
    "y= data.iloc[:, 2].values  #Target Variable"
   ]
  },
  {
   "cell_type": "code",
   "execution_count": 92,
   "id": "431644a6-10af-4ca1-8665-baf2ddcff151",
   "metadata": {},
   "outputs": [
    {
     "data": {
      "text/plain": [
       "array([['0', '1765'],\n",
       "       ['0', '1765'],\n",
       "       ['1', '11369'],\n",
       "       ...,\n",
       "       ['12950', '682'],\n",
       "       ['12950', '682'],\n",
       "       ['12951', '7679']], dtype=object)"
      ]
     },
     "execution_count": 92,
     "metadata": {},
     "output_type": "execute_result"
    }
   ],
   "source": [
    "x"
   ]
  },
  {
   "cell_type": "code",
   "execution_count": 93,
   "id": "f3b3fedc-c9c0-4282-8d89-c005e8dd5c76",
   "metadata": {},
   "outputs": [
    {
     "data": {
      "text/plain": [
       "array([0, 0, 0, ..., 0, 0, 2], dtype=int64)"
      ]
     },
     "execution_count": 93,
     "metadata": {},
     "output_type": "execute_result"
    }
   ],
   "source": [
    "y"
   ]
  },
  {
   "cell_type": "code",
   "execution_count": 60,
   "id": "731c157c-65b4-4d60-aa8a-cd4573ab65b3",
   "metadata": {},
   "outputs": [],
   "source": [
    "# Splitting the dataset into training and test set.  \n",
    "from sklearn.model_selection import train_test_split  \n",
    "x_train, x_test, y_train, y_test= train_test_split(x, y, test_size= 0.25, random_state=0)  "
   ]
  },
  {
   "cell_type": "code",
   "execution_count": 61,
   "id": "b41e0a4c-157d-4d09-986b-c72229585ffe",
   "metadata": {},
   "outputs": [
    {
     "data": {
      "text/plain": [
       "array([['1833', '3929'],\n",
       "       ['11889', '1712'],\n",
       "       ['5962', '6095'],\n",
       "       ...,\n",
       "       ['6407', '4341'],\n",
       "       ['6540', '8587'],\n",
       "       ['10545', '10425']], dtype=object)"
      ]
     },
     "execution_count": 61,
     "metadata": {},
     "output_type": "execute_result"
    }
   ],
   "source": [
    "x_train"
   ]
  },
  {
   "cell_type": "code",
   "execution_count": 64,
   "id": "e3adf416-9889-45f7-9f7e-896290d50a4a",
   "metadata": {},
   "outputs": [],
   "source": [
    "# Create Decision Tree classifer object\n",
    "clf = DecisionTreeClassifier()\n",
    "\n",
    "# Train Decision Tree Classifer\n",
    "clf = clf.fit(x_train,y_train)\n",
    "\n",
    "#Predict the response for test dataset\n",
    "y_pred = clf.predict(x_test)"
   ]
  },
  {
   "cell_type": "code",
   "execution_count": 79,
   "id": "233a92ce-76b2-4226-aeaa-51ab434fb5dd",
   "metadata": {},
   "outputs": [
    {
     "data": {
      "text/plain": [
       "array([['10440', '3714'],\n",
       "       ['12093', '2161'],\n",
       "       ['1936', '3589'],\n",
       "       ...,\n",
       "       ['1345', '9717'],\n",
       "       ['10226', '764'],\n",
       "       ['1865', '2796']], dtype=object)"
      ]
     },
     "execution_count": 79,
     "metadata": {},
     "output_type": "execute_result"
    }
   ],
   "source": [
    "x_test"
   ]
  },
  {
   "cell_type": "code",
   "execution_count": 85,
   "id": "833f380f-d4fa-4bb0-bdce-26a51a55369c",
   "metadata": {},
   "outputs": [
    {
     "data": {
      "text/plain": [
       "array([1, 1, 0, ..., 0, 1, 0], dtype=int64)"
      ]
     },
     "execution_count": 85,
     "metadata": {},
     "output_type": "execute_result"
    }
   ],
   "source": [
    "y_pred"
   ]
  },
  {
   "cell_type": "code",
   "execution_count": 65,
   "id": "bb8a28a6-a6dd-459f-b949-2dd87d85f3c8",
   "metadata": {},
   "outputs": [
    {
     "name": "stdout",
     "output_type": "stream",
     "text": [
      "Accuracy: 0.784984955359345\n"
     ]
    }
   ],
   "source": [
    "# Model Accuracy, how often is the classifier correct?\n",
    "from sklearn import metrics \n",
    "print(\"Accuracy:\",metrics.accuracy_score(y_test, y_pred))"
   ]
  },
  {
   "cell_type": "code",
   "execution_count": 66,
   "id": "84a59173-2ddf-49ad-b2a7-06fc6cc690d4",
   "metadata": {},
   "outputs": [
    {
     "data": {
      "text/plain": [
       "0.784984955359345"
      ]
     },
     "execution_count": 66,
     "metadata": {},
     "output_type": "execute_result"
    }
   ],
   "source": [
    "import pickle\n",
    "# Save trained model to file\n",
    "pickle.dump(clf, open(\"gsoc.pkl\", \"wb\"))\n",
    "loaded_model = pickle.load(open(\"gsoc.pkl\", \"rb\"))\n",
    "loaded_model.predict(x_test)\n",
    "loaded_model.score(x_test,y_test)"
   ]
  },
  {
   "cell_type": "code",
   "execution_count": 90,
   "id": "629817e4-e50a-4228-b6e1-7f187653451c",
   "metadata": {},
   "outputs": [],
   "source": [
    "#################################################################################################################"
   ]
  },
  {
   "cell_type": "code",
   "execution_count": 124,
   "id": "cf763c7e-e3dd-4bf8-8ab5-06329581419c",
   "metadata": {},
   "outputs": [
    {
     "data": {
      "text/html": [
       "<div>\n",
       "<style scoped>\n",
       "    .dataframe tbody tr th:only-of-type {\n",
       "        vertical-align: middle;\n",
       "    }\n",
       "\n",
       "    .dataframe tbody tr th {\n",
       "        vertical-align: top;\n",
       "    }\n",
       "\n",
       "    .dataframe thead th {\n",
       "        text-align: right;\n",
       "    }\n",
       "</style>\n",
       "<table border=\"1\" class=\"dataframe\">\n",
       "  <thead>\n",
       "    <tr style=\"text-align: right;\">\n",
       "      <th></th>\n",
       "      <th>gene_name</th>\n",
       "      <th>identifier</th>\n",
       "    </tr>\n",
       "  </thead>\n",
       "  <tbody>\n",
       "    <tr>\n",
       "      <th>0</th>\n",
       "      <td>AAAS</td>\n",
       "      <td>Q9NRG9</td>\n",
       "    </tr>\n",
       "  </tbody>\n",
       "</table>\n",
       "</div>"
      ],
      "text/plain": [
       "  gene_name identifier\n",
       "0      AAAS     Q9NRG9"
      ]
     },
     "execution_count": 124,
     "metadata": {},
     "output_type": "execute_result"
    }
   ],
   "source": [
    "'''dicti = {'gene_name':'AAAS', 'identifier':'Q9NRG9'}\n",
    "df = pd.DataFrame(dicti, index = [0])\n",
    "df'''"
   ]
  },
  {
   "cell_type": "code",
   "execution_count": 128,
   "id": "d8b64d57-0663-451e-be49-e96d1964c5f4",
   "metadata": {},
   "outputs": [
    {
     "data": {
      "text/html": [
       "<div>\n",
       "<style scoped>\n",
       "    .dataframe tbody tr th:only-of-type {\n",
       "        vertical-align: middle;\n",
       "    }\n",
       "\n",
       "    .dataframe tbody tr th {\n",
       "        vertical-align: top;\n",
       "    }\n",
       "\n",
       "    .dataframe thead th {\n",
       "        text-align: right;\n",
       "    }\n",
       "</style>\n",
       "<table border=\"1\" class=\"dataframe\">\n",
       "  <thead>\n",
       "    <tr style=\"text-align: right;\">\n",
       "      <th></th>\n",
       "      <th>gene_name</th>\n",
       "      <th>identifier</th>\n",
       "      <th>variant_category</th>\n",
       "    </tr>\n",
       "  </thead>\n",
       "  <tbody>\n",
       "    <tr>\n",
       "      <th>0</th>\n",
       "      <td>0</td>\n",
       "      <td>3817</td>\n",
       "      <td>0.0</td>\n",
       "    </tr>\n",
       "    <tr>\n",
       "      <th>1</th>\n",
       "      <td>0</td>\n",
       "      <td>3817</td>\n",
       "      <td>0.0</td>\n",
       "    </tr>\n",
       "    <tr>\n",
       "      <th>2</th>\n",
       "      <td>1</td>\n",
       "      <td>1524</td>\n",
       "      <td>0.0</td>\n",
       "    </tr>\n",
       "    <tr>\n",
       "      <th>3</th>\n",
       "      <td>1</td>\n",
       "      <td>1524</td>\n",
       "      <td>0.0</td>\n",
       "    </tr>\n",
       "    <tr>\n",
       "      <th>4</th>\n",
       "      <td>4064</td>\n",
       "      <td>3639</td>\n",
       "      <td>0.0</td>\n",
       "    </tr>\n",
       "    <tr>\n",
       "      <th>...</th>\n",
       "      <td>...</td>\n",
       "      <td>...</td>\n",
       "      <td>...</td>\n",
       "    </tr>\n",
       "    <tr>\n",
       "      <th>81088</th>\n",
       "      <td>3281</td>\n",
       "      <td>9433</td>\n",
       "      <td>0.0</td>\n",
       "    </tr>\n",
       "    <tr>\n",
       "      <th>81089</th>\n",
       "      <td>3281</td>\n",
       "      <td>9433</td>\n",
       "      <td>0.0</td>\n",
       "    </tr>\n",
       "    <tr>\n",
       "      <th>81090</th>\n",
       "      <td>3281</td>\n",
       "      <td>9433</td>\n",
       "      <td>0.0</td>\n",
       "    </tr>\n",
       "    <tr>\n",
       "      <th>81091</th>\n",
       "      <td>3282</td>\n",
       "      <td>10387</td>\n",
       "      <td>2.0</td>\n",
       "    </tr>\n",
       "    <tr>\n",
       "      <th>81092</th>\n",
       "      <td>AAAS</td>\n",
       "      <td>Q9NRG9</td>\n",
       "      <td>NaN</td>\n",
       "    </tr>\n",
       "  </tbody>\n",
       "</table>\n",
       "<p>81093 rows × 3 columns</p>\n",
       "</div>"
      ],
      "text/plain": [
       "      gene_name identifier  variant_category\n",
       "0             0       3817               0.0\n",
       "1             0       3817               0.0\n",
       "2             1       1524               0.0\n",
       "3             1       1524               0.0\n",
       "4          4064       3639               0.0\n",
       "...         ...        ...               ...\n",
       "81088      3281       9433               0.0\n",
       "81089      3281       9433               0.0\n",
       "81090      3281       9433               0.0\n",
       "81091      3282      10387               2.0\n",
       "81092      AAAS     Q9NRG9               NaN\n",
       "\n",
       "[81093 rows x 3 columns]"
      ]
     },
     "execution_count": 128,
     "metadata": {},
     "output_type": "execute_result"
    }
   ],
   "source": [
    "'''test_data = pd.concat([data, df], axis=0, ignore_index=True)\n",
    "test_data'''"
   ]
  },
  {
   "cell_type": "code",
   "execution_count": 129,
   "id": "6042a7d9-b2c3-4621-b84b-5471653aa6ee",
   "metadata": {},
   "outputs": [
    {
     "data": {
      "text/html": [
       "<div>\n",
       "<style scoped>\n",
       "    .dataframe tbody tr th:only-of-type {\n",
       "        vertical-align: middle;\n",
       "    }\n",
       "\n",
       "    .dataframe tbody tr th {\n",
       "        vertical-align: top;\n",
       "    }\n",
       "\n",
       "    .dataframe thead th {\n",
       "        text-align: right;\n",
       "    }\n",
       "</style>\n",
       "<table border=\"1\" class=\"dataframe\">\n",
       "  <thead>\n",
       "    <tr style=\"text-align: right;\">\n",
       "      <th></th>\n",
       "      <th>gene_name</th>\n",
       "      <th>identifier</th>\n",
       "    </tr>\n",
       "  </thead>\n",
       "  <tbody>\n",
       "    <tr>\n",
       "      <th>81092</th>\n",
       "      <td>AAAS</td>\n",
       "      <td>Q9NRG9</td>\n",
       "    </tr>\n",
       "  </tbody>\n",
       "</table>\n",
       "</div>"
      ],
      "text/plain": [
       "      gene_name identifier\n",
       "81092      AAAS     Q9NRG9"
      ]
     },
     "execution_count": 129,
     "metadata": {},
     "output_type": "execute_result"
    }
   ],
   "source": [
    "'''test_data.iloc[[-1], [0,1]]'''"
   ]
  },
  {
   "cell_type": "code",
   "execution_count": 131,
   "id": "67af9730-5d26-4ff1-8b4e-92e2b3f9e7d3",
   "metadata": {},
   "outputs": [],
   "source": [
    "'''test_data['gene_name']=le.fit_transform(test_data['gene_name']).astype('str')\n",
    "test_data['identifier']=le.fit_transform(test_data['identifier']).astype('str')'''"
   ]
  },
  {
   "cell_type": "code",
   "execution_count": 132,
   "id": "2fbba183-3fac-4f7d-b038-38ede3e8585e",
   "metadata": {},
   "outputs": [
    {
     "data": {
      "text/html": [
       "<div>\n",
       "<style scoped>\n",
       "    .dataframe tbody tr th:only-of-type {\n",
       "        vertical-align: middle;\n",
       "    }\n",
       "\n",
       "    .dataframe tbody tr th {\n",
       "        vertical-align: top;\n",
       "    }\n",
       "\n",
       "    .dataframe thead th {\n",
       "        text-align: right;\n",
       "    }\n",
       "</style>\n",
       "<table border=\"1\" class=\"dataframe\">\n",
       "  <thead>\n",
       "    <tr style=\"text-align: right;\">\n",
       "      <th></th>\n",
       "      <th>gene_name</th>\n",
       "      <th>identifier</th>\n",
       "      <th>variant_category</th>\n",
       "    </tr>\n",
       "  </thead>\n",
       "  <tbody>\n",
       "    <tr>\n",
       "      <th>0</th>\n",
       "      <td>0</td>\n",
       "      <td>6097</td>\n",
       "      <td>0.0</td>\n",
       "    </tr>\n",
       "    <tr>\n",
       "      <th>1</th>\n",
       "      <td>0</td>\n",
       "      <td>6097</td>\n",
       "      <td>0.0</td>\n",
       "    </tr>\n",
       "    <tr>\n",
       "      <th>2</th>\n",
       "      <td>1</td>\n",
       "      <td>3550</td>\n",
       "      <td>0.0</td>\n",
       "    </tr>\n",
       "    <tr>\n",
       "      <th>3</th>\n",
       "      <td>1</td>\n",
       "      <td>3550</td>\n",
       "      <td>0.0</td>\n",
       "    </tr>\n",
       "    <tr>\n",
       "      <th>4</th>\n",
       "      <td>6359</td>\n",
       "      <td>5899</td>\n",
       "      <td>0.0</td>\n",
       "    </tr>\n",
       "    <tr>\n",
       "      <th>...</th>\n",
       "      <td>...</td>\n",
       "      <td>...</td>\n",
       "      <td>...</td>\n",
       "    </tr>\n",
       "    <tr>\n",
       "      <th>81088</th>\n",
       "      <td>5489</td>\n",
       "      <td>12337</td>\n",
       "      <td>0.0</td>\n",
       "    </tr>\n",
       "    <tr>\n",
       "      <th>81089</th>\n",
       "      <td>5489</td>\n",
       "      <td>12337</td>\n",
       "      <td>0.0</td>\n",
       "    </tr>\n",
       "    <tr>\n",
       "      <th>81090</th>\n",
       "      <td>5489</td>\n",
       "      <td>12337</td>\n",
       "      <td>0.0</td>\n",
       "    </tr>\n",
       "    <tr>\n",
       "      <th>81091</th>\n",
       "      <td>5490</td>\n",
       "      <td>433</td>\n",
       "      <td>2.0</td>\n",
       "    </tr>\n",
       "    <tr>\n",
       "      <th>81092</th>\n",
       "      <td>12952</td>\n",
       "      <td>12965</td>\n",
       "      <td>NaN</td>\n",
       "    </tr>\n",
       "  </tbody>\n",
       "</table>\n",
       "<p>81093 rows × 3 columns</p>\n",
       "</div>"
      ],
      "text/plain": [
       "      gene_name identifier  variant_category\n",
       "0             0       6097               0.0\n",
       "1             0       6097               0.0\n",
       "2             1       3550               0.0\n",
       "3             1       3550               0.0\n",
       "4          6359       5899               0.0\n",
       "...         ...        ...               ...\n",
       "81088      5489      12337               0.0\n",
       "81089      5489      12337               0.0\n",
       "81090      5489      12337               0.0\n",
       "81091      5490        433               2.0\n",
       "81092     12952      12965               NaN\n",
       "\n",
       "[81093 rows x 3 columns]"
      ]
     },
     "execution_count": 132,
     "metadata": {},
     "output_type": "execute_result"
    }
   ],
   "source": [
    "'''test_data'''"
   ]
  },
  {
   "cell_type": "code",
   "execution_count": 141,
   "id": "1b53e8b4-78cf-4060-b3c0-d0f989c0bf2a",
   "metadata": {},
   "outputs": [
    {
     "data": {
      "text/html": [
       "<div>\n",
       "<style scoped>\n",
       "    .dataframe tbody tr th:only-of-type {\n",
       "        vertical-align: middle;\n",
       "    }\n",
       "\n",
       "    .dataframe tbody tr th {\n",
       "        vertical-align: top;\n",
       "    }\n",
       "\n",
       "    .dataframe thead th {\n",
       "        text-align: right;\n",
       "    }\n",
       "</style>\n",
       "<table border=\"1\" class=\"dataframe\">\n",
       "  <thead>\n",
       "    <tr style=\"text-align: right;\">\n",
       "      <th></th>\n",
       "      <th>gene_name</th>\n",
       "      <th>identifier</th>\n",
       "    </tr>\n",
       "  </thead>\n",
       "  <tbody>\n",
       "    <tr>\n",
       "      <th>81092</th>\n",
       "      <td>12952</td>\n",
       "      <td>12965</td>\n",
       "    </tr>\n",
       "  </tbody>\n",
       "</table>\n",
       "</div>"
      ],
      "text/plain": [
       "      gene_name identifier\n",
       "81092     12952      12965"
      ]
     },
     "execution_count": 141,
     "metadata": {},
     "output_type": "execute_result"
    }
   ],
   "source": [
    "'''input_data = test_data.iloc[[-1], [0,1]]\n",
    "input_data'''"
   ]
  },
  {
   "cell_type": "code",
   "execution_count": 142,
   "id": "822a0a04-2a83-4b05-bee6-f89e701186f3",
   "metadata": {},
   "outputs": [
    {
     "name": "stdout",
     "output_type": "stream",
     "text": [
      "[1]\n"
     ]
    },
    {
     "name": "stderr",
     "output_type": "stream",
     "text": [
      "c:\\users\\sindhu\\appdata\\local\\programs\\python\\python38\\lib\\site-packages\\sklearn\\base.py:443: UserWarning: X has feature names, but DecisionTreeClassifier was fitted without feature names\n",
      "  warnings.warn(\n"
     ]
    }
   ],
   "source": [
    "'''output = clf.predict(input_data)\n",
    "print(output)'''"
   ]
  },
  {
   "cell_type": "code",
   "execution_count": null,
   "id": "82bab0ae-cb40-4c6b-9d49-8e3e2001e242",
   "metadata": {},
   "outputs": [],
   "source": []
  }
 ],
 "metadata": {
  "kernelspec": {
   "display_name": "Python 3 (ipykernel)",
   "language": "python",
   "name": "python3"
  },
  "language_info": {
   "codemirror_mode": {
    "name": "ipython",
    "version": 3
   },
   "file_extension": ".py",
   "mimetype": "text/x-python",
   "name": "python",
   "nbconvert_exporter": "python",
   "pygments_lexer": "ipython3",
   "version": "3.8.9"
  }
 },
 "nbformat": 4,
 "nbformat_minor": 5
}
